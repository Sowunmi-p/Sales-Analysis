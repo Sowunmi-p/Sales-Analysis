{
 "cells": [
  {
   "cell_type": "markdown",
   "id": "5e5db922",
   "metadata": {},
   "source": [
    "# SALES\n",
    "\n",
    "## Introduction\n",
    "\n",
    "   Sales are activities related to selling or the number of goods sold in a given targeted time period. The delivery of a service for a cost is also considered a sale.\n",
    "  \n",
    "  In this analysis, I will be answering few questions on historical Sales of the company, from **2011-2016**. Each record represents a single day of trading, and includes Date, Day, Month, Year, Customer_Age, Age_Group, Customer_Gender, Country, State, Product_Category, Sub_Category, Product, Order_Quantity, Unit_Cost, Unit_Price, Profit, Cost, Revenue.\n",
    "  \n",
    "  \n",
    "# Data Validation \n",
    "   \n",
    "   Before analysing, i made sure i performed thorough data validation and data wrangling to the dataset that was provided to me. Step by Step details of my Data validation process are well explained below:\n",
    "    \n",
    "  The original data consist of 111,043 rows and 18 columns, namely; Date, Day, Month, Year, Customer_Age, Age_Group, Customer_Gender, Country, State, Product_Category, Sub_Category, Product, Order_Quantity, Unit_Cost, Unit_Price, Profit, Cost, Revenue.\n",
    "  \n",
    "  - I checked the entire columns,\n",
    "  - I checked for duplicate rows\n",
    "  - I checked for null values\n",
    "  \n",
    "  \n",
    "  \n",
    "# Questions \n",
    "\n",
    " - What is the age distribution of Cusomers?\n",
    " - What is the most profitable year?\n",
    " - What is the most protitable month?\n",
    " - Gender with the most orders?\n",
    " - Country with the highest revenue?\n",
    " - State with the highest revenue?\n",
    " - Most profit category?\n",
    " - The most occuring Age for customers in year 2012\n",
    " - The most occuring Age for customers in year 2013\n",
    " - The country with most cost in year 2013\n",
    " \n",
    " \n",
    "# Exploratory Data Analysis (EDA)\n",
    " \n",
    " - The time frame for this dataset is between January 2011 to December 2016.\n",
    " - The age distribution \n",
    "    Adults (35-64)          54895\n",
    "    Young Adults (25-34)    37948\n",
    "    Youth (<25)             17492\n",
    "    Seniors (64+)             708\n",
    " - The most profitable year is 2015 with 7,466,184 profit\n",
    " - The most profitable month is December 2015 with 1,469,016 profit\n",
    " - The gender with the most orders are Males with 687,954 orders\n",
    " - Country with the highest revenue is United States 27,578,700\n",
    " - State with the highest revenue is California with 17,387,005\n",
    " - The most Category with most profit is Bikes with Road Bikes having 9,946,963 profit and Mountain Bikes      8,075,139\n",
    " - The most occuring Age for customers in year 2012 is 28 with the total number of 134\n",
    " - The most occuring Age for customers in year 2013 is 19 with the total number of 479\n",
    " - The country with most cost in year 2013 Australia with cost of 249,675.\n",
    " \n",
    " \n",
    "# Conclusion \n",
    "\n",
    "According to my analysis it shows that adults(35-64) made more purchases and the most profitable year was 2015, while the country with the highest revenue is United States. people got more bikes product which means bikes product are products with the most profit.\n",
    " \n",
    "\n"
   ]
  },
  {
   "cell_type": "code",
   "execution_count": null,
   "id": "688ddc95",
   "metadata": {},
   "outputs": [],
   "source": []
  }
 ],
 "metadata": {
  "kernelspec": {
   "display_name": "Python 3 (ipykernel)",
   "language": "python",
   "name": "python3"
  },
  "language_info": {
   "codemirror_mode": {
    "name": "ipython",
    "version": 3
   },
   "file_extension": ".py",
   "mimetype": "text/x-python",
   "name": "python",
   "nbconvert_exporter": "python",
   "pygments_lexer": "ipython3",
   "version": "3.9.12"
  }
 },
 "nbformat": 4,
 "nbformat_minor": 5
}
